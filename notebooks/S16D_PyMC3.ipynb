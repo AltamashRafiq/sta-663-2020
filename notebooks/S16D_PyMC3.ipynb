{
 "cells": [
  {
   "cell_type": "code",
   "execution_count": null,
   "metadata": {},
   "outputs": [],
   "source": [
    "%matplotlib inline"
   ]
  },
  {
   "cell_type": "code",
   "execution_count": null,
   "metadata": {},
   "outputs": [],
   "source": [
    "import matplotlib.pyplot as plt"
   ]
  },
  {
   "cell_type": "code",
   "execution_count": null,
   "metadata": {},
   "outputs": [],
   "source": [
    "import numpy as np\n",
    "import scipy.stats as stats"
   ]
  },
  {
   "cell_type": "code",
   "execution_count": null,
   "metadata": {},
   "outputs": [],
   "source": [
    "import pymc3 as pm"
   ]
  },
  {
   "cell_type": "code",
   "execution_count": null,
   "metadata": {},
   "outputs": [],
   "source": [
    "import warnings\n",
    "warnings.simplefilter('ignore', FutureWarning)"
   ]
  },
  {
   "cell_type": "markdown",
   "metadata": {},
   "source": [
    "# Gaussian process models\n",
    "\n",
    "Suppose we want to model some observed data with noise $\\epsilon$ as samples from a normal distribution\n",
    "\n",
    "$$\n",
    "    y \\sim \\mathcal{N}(\\mu = f(x), \\sigma=\\epsilon)\n",
    "$$\n",
    "\n",
    "For example, if $f(x) = ax + b$, we have simple linear regression. \n",
    "\n",
    "Gaussian process models let us put a prior over $f$\n",
    "\n",
    "$$\n",
    "f(x) \\sim \\mathcal{GP}(\\mu_x, K(x, x^T, h))\n",
    "$$\n",
    "\n",
    "where $\\mu_x$ is the mean function and $K(x, x^T)$ is the covariance or kernel function and $h$ is a bandwidth parameter that determines the amount of smoothing.\n",
    "\n",
    "This results in a very flexible modeling framework, since we can in principal model arbitrary curves and surfaces, so long as the noise can be approximated by a Gaussian. In fact, the classical linear and generalized models can be considered special cases of the Gaussian process model."
   ]
  },
  {
   "cell_type": "markdown",
   "metadata": {},
   "source": [
    "## Generative model"
   ]
  },
  {
   "cell_type": "code",
   "execution_count": null,
   "metadata": {},
   "outputs": [],
   "source": [
    "def gauss_kernel(x, knots, h):\n",
    "    return np.array([np.exp(-(x-k)**2/(2*h**2)) for k in knots])"
   ]
  },
  {
   "cell_type": "code",
   "execution_count": null,
   "metadata": {},
   "outputs": [],
   "source": [
    "plt.figure(figsize=(12,3))\n",
    "hs = hs=[0.05, 0.1, 0.5, 1]\n",
    "x = np.linspace(0, 1, 20)\n",
    "for i, h in enumerate(hs):\n",
    "    plt.subplot(1,4,i+1)\n",
    "    for j in range(3):\n",
    "        plt.plot(x, stats.multivariate_normal.rvs(cov=gauss_kernel(x, x, h)))\n",
    "    plt.title('h = %.2f' % h)\n",
    "plt.tight_layout()"
   ]
  },
  {
   "cell_type": "markdown",
   "metadata": {},
   "source": [
    "## Simple example of sampling from a GP model"
   ]
  },
  {
   "cell_type": "code",
   "execution_count": null,
   "metadata": {},
   "outputs": [],
   "source": [
    "n = 20\n",
    "x = np.r_[np.linspace(0, 0.5*np.pi, 8),\n",
    "          np.linspace(0.5*np.pi, 1.5*np.pi, 4),\n",
    "          np.linspace(1.5*np.pi, 2*np.pi, 8)]\n",
    "y = np.sin(x) + np.random.normal(0, 0.2, n)\n",
    "plt.plot(x, y, 'o')\n",
    "pass"
   ]
  },
  {
   "cell_type": "code",
   "execution_count": null,
   "metadata": {},
   "outputs": [],
   "source": [
    "X = np.c_[x]"
   ]
  },
  {
   "cell_type": "code",
   "execution_count": null,
   "metadata": {},
   "outputs": [],
   "source": [
    "with pm.Model() as gp1:\n",
    "    h = pm.Gamma('h', 2, 0.5)\n",
    "    c = pm.gp.cov.ExpQuad(1, ls=h)\n",
    "    gp = pm.gp.Marginal(cov_func=c)\n",
    "    ϵ = pm.HalfCauchy('ϵ', 1)\n",
    "    y_est = gp.marginal_likelihood('y_est', X=X, y=y, noise=ϵ)"
   ]
  },
  {
   "cell_type": "code",
   "execution_count": null,
   "metadata": {},
   "outputs": [],
   "source": [
    "with gp1:\n",
    "    trace = pm.sample(tune=1000)"
   ]
  },
  {
   "cell_type": "code",
   "execution_count": null,
   "metadata": {},
   "outputs": [],
   "source": [
    "pm.traceplot(trace)\n",
    "pass"
   ]
  },
  {
   "cell_type": "code",
   "execution_count": null,
   "metadata": {},
   "outputs": [],
   "source": [
    "xp = np.c_[np.linspace(0, 2*np.pi, 100)]\n",
    "\n",
    "with gp1:\n",
    "    fp = gp.conditional('fp', xp)\n",
    "    ppc = pm.sample_posterior_predictive(trace, vars=[fp], samples=100)"
   ]
  },
  {
   "cell_type": "code",
   "execution_count": null,
   "metadata": {},
   "outputs": [],
   "source": [
    "plt.plot(xp, ppc['fp'].T, c='grey', alpha=0.1)\n",
    "plt.scatter(x, y, c='red')\n",
    "pass"
   ]
  },
  {
   "cell_type": "markdown",
   "metadata": {},
   "source": [
    "### Utility plot showing percentiles from 51 to 99"
   ]
  },
  {
   "cell_type": "code",
   "execution_count": null,
   "metadata": {},
   "outputs": [],
   "source": [
    "ax = plt.subplot(111)\n",
    "pm.gp.util.plot_gp_dist(ax, ppc['fp'], xp, palette='cool')\n",
    "pass"
   ]
  },
  {
   "cell_type": "code",
   "execution_count": null,
   "metadata": {},
   "outputs": [],
   "source": []
  }
 ],
 "metadata": {
  "kernelspec": {
   "display_name": "Python 3",
   "language": "python",
   "name": "python3"
  },
  "language_info": {
   "codemirror_mode": {
    "name": "ipython",
    "version": 3
   },
   "file_extension": ".py",
   "mimetype": "text/x-python",
   "name": "python",
   "nbconvert_exporter": "python",
   "pygments_lexer": "ipython3",
   "version": "3.6.10"
  }
 },
 "nbformat": 4,
 "nbformat_minor": 2
}
