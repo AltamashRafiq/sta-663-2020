{
 "cells": [
  {
   "cell_type": "code",
   "execution_count": null,
   "metadata": {},
   "outputs": [],
   "source": [
    "%matplotlib inline"
   ]
  },
  {
   "cell_type": "code",
   "execution_count": null,
   "metadata": {},
   "outputs": [],
   "source": [
    "import numpy as np\n",
    "import numpy.random as rng\n",
    "import matplotlib.pyplot as plt\n",
    "import seaborn as sns\n",
    "import pandas as pd\n",
    "import pymc3 as pm\n",
    "import scipy.stats as stats\n",
    "from sklearn.preprocessing import StandardScaler\n",
    "import daft"
   ]
  },
  {
   "cell_type": "code",
   "execution_count": null,
   "metadata": {},
   "outputs": [],
   "source": [
    "import theano\n",
    "import theano.tensor as tt\n",
    "theano.config.warn.round=False"
   ]
  },
  {
   "cell_type": "code",
   "execution_count": null,
   "metadata": {},
   "outputs": [],
   "source": [
    "import warnings\n",
    "warnings.simplefilter('ignore', UserWarning)"
   ]
  },
  {
   "cell_type": "code",
   "execution_count": null,
   "metadata": {},
   "outputs": [],
   "source": [
    "sns.set_context('notebook')\n",
    "sns.set_style('darkgrid')"
   ]
  },
  {
   "cell_type": "markdown",
   "metadata": {},
   "source": [
    "-----"
   ]
  },
  {
   "cell_type": "markdown",
   "metadata": {},
   "source": [
    "# Mixture models\n",
    "\n",
    "We can construct very flexible new distributions using mixtures of other distributions. In fact, we can construct mixtures of not just distributions, but of regression models, neural networks etc, making this a very powerful framework. We consider finite and Dirichlet Process (DP) mixtures, and see basic ideas for how to work with mixtures in `pymc3`."
   ]
  },
  {
   "cell_type": "markdown",
   "metadata": {},
   "source": [
    "## The Categorical distribution\n",
    "\n",
    "This is just the extension of the Bernoulli distribuiotn to more than 2 states."
   ]
  },
  {
   "cell_type": "code",
   "execution_count": null,
   "metadata": {},
   "outputs": [],
   "source": [
    "cat = stats.multinomial(1, [0.1, 0.2, 0.3, 0.4])"
   ]
  },
  {
   "cell_type": "code",
   "execution_count": null,
   "metadata": {},
   "outputs": [],
   "source": [
    "cat.rvs(10)"
   ]
  },
  {
   "cell_type": "code",
   "execution_count": null,
   "metadata": {},
   "outputs": [],
   "source": [
    "x = range(4)\n",
    "plt.vlines(x, 0, cat.p)\n",
    "plt.xticks(range(4))\n",
    "pass"
   ]
  },
  {
   "cell_type": "markdown",
   "metadata": {},
   "source": [
    "## The Dirichlet distribution\n",
    "\n",
    "The code to visualize Dirichlet distributions in barycentric coordinates is from this [blog](http://blog.bogatron.net/blog/2014/02/02/visualizing-dirichlet-distributions/)."
   ]
  },
  {
   "cell_type": "code",
   "execution_count": null,
   "metadata": {},
   "outputs": [],
   "source": [
    "from functools import reduce\n",
    "import matplotlib.tri as tri\n",
    "from math import gamma\n",
    "from operator import mul"
   ]
  },
  {
   "cell_type": "code",
   "execution_count": null,
   "metadata": {},
   "outputs": [],
   "source": [
    "corners = np.array([[0, 0], [1, 0], [0.5, 0.75**0.5]])\n",
    "triangle = tri.Triangulation(corners[:, 0], corners[:, 1])\n",
    "refiner = tri.UniformTriRefiner(triangle)\n",
    "trimesh = refiner.refine_triangulation(subdiv=4)\n",
    "midpoints = [(corners[(i + 1) % 3] + corners[(i + 2) % 3]) / 2.0 \\\n",
    "             for i in range(3)]\n",
    "\n",
    "def xy2bc(xy, tol=1.e-3):\n",
    "    '''Converts 2D Cartesian coordinates to barycentric.'''\n",
    "    s = [(corners[i] - midpoints[i]).dot(xy - midpoints[i]) / 0.75 \\\n",
    "         for i in range(3)]\n",
    "    return np.clip(s, tol, 1.0 - tol)\n",
    "\n",
    "class Dirichlet(object):\n",
    "    def __init__(self, alpha):\n",
    "\n",
    "        self._alpha = np.array(alpha)\n",
    "        self._coef = gamma(np.sum(self._alpha)) / \\\n",
    "                     reduce(mul, [gamma(a) for a in self._alpha])\n",
    "        \n",
    "    def pdf(self, x):\n",
    "        '''Returns pdf value for `x`.'''\n",
    "        return self._coef * reduce(mul, [xx ** (aa - 1)\n",
    "                                         for (xx, aa)in zip(x, self._alpha)])\n",
    "\n",
    "def draw_pdf_contours(dist, nlevels=200, subdiv=8, **kwargs):\n",
    "    refiner = tri.UniformTriRefiner(triangle)\n",
    "    trimesh = refiner.refine_triangulation(subdiv=subdiv)\n",
    "    pvals = [dist.pdf(xy2bc(xy)) for xy in zip(trimesh.x, trimesh.y)]\n",
    "\n",
    "    plt.tricontourf(trimesh, pvals, nlevels, **kwargs)\n",
    "    plt.axis('equal')\n",
    "    plt.xlim(0, 1)\n",
    "    plt.ylim(0, 0.75**0.5)\n",
    "    plt.axis('off')"
   ]
  },
  {
   "cell_type": "code",
   "execution_count": null,
   "metadata": {},
   "outputs": [],
   "source": [
    "ks = (\n",
    "    [0.999, 0.999, 0.999],\n",
    "    [1,1,1],\n",
    "    [5,5,5],\n",
    "    [5,2,1],\n",
    ")\n",
    "\n",
    "plt.viridis()\n",
    "fig = plt.figure(figsize=(12,4))\n",
    "for i, k in enumerate(ks):\n",
    "    plt.subplot(1,4,i+1)\n",
    "    draw_pdf_contours(Dirichlet(k))"
   ]
  },
  {
   "cell_type": "markdown",
   "metadata": {},
   "source": [
    "### Samples from Dirichlet distribution"
   ]
  },
  {
   "cell_type": "code",
   "execution_count": null,
   "metadata": {},
   "outputs": [],
   "source": [
    "n = 20\n",
    "s = stats.dirichlet.rvs(alpha=[7,7,7], size=n).T"
   ]
  },
  {
   "cell_type": "code",
   "execution_count": null,
   "metadata": {},
   "outputs": [],
   "source": [
    "plt.figure(figsize=(4, n*0.4))\n",
    "with plt.style.context('seaborn-dark'):\n",
    "    plt.barh(range(n), s[0])\n",
    "    plt.barh(range(n), s[1], left=s[0], color='g')\n",
    "    plt.barh(range(n), s[2], left=s[0]+s[1], color='r')\n",
    "pass"
   ]
  },
  {
   "cell_type": "markdown",
   "metadata": {},
   "source": [
    "## Finite Gaussian Mixture Model"
   ]
  },
  {
   "cell_type": "markdown",
   "metadata": {},
   "source": [
    "### Data"
   ]
  },
  {
   "cell_type": "code",
   "execution_count": null,
   "metadata": {},
   "outputs": [],
   "source": [
    "np.random.seed(1)\n",
    "data = np.r_[np.random.normal(-6, 2, 500), \n",
    "          np.random.normal(0, 1, 200), \n",
    "          np.random.normal(4, 1, 300)]\n",
    "n = data.shape[0]"
   ]
  },
  {
   "cell_type": "code",
   "execution_count": null,
   "metadata": {},
   "outputs": [],
   "source": [
    "plt.hist(data, bins=20, normed=True, alpha=0.5)\n",
    "pass"
   ]
  },
  {
   "cell_type": "code",
   "execution_count": null,
   "metadata": {},
   "outputs": [],
   "source": [
    "data.shape"
   ]
  },
  {
   "cell_type": "markdown",
   "metadata": {},
   "source": [
    "### Explicit latent variable"
   ]
  },
  {
   "cell_type": "code",
   "execution_count": null,
   "metadata": {},
   "outputs": [],
   "source": [
    "k = 3\n",
    "\n",
    "with pm.Model() as gmm1:\n",
    "    p = pm.Dirichlet('p', a=np.ones(k))\n",
    "    z = pm.Categorical('z', p=p, shape=data.shape[0])\n",
    "    μ = pm.Normal('μ', 0, 10, shape=k)\n",
    "    σ = pm.InverseGamma('τ', 1, 1, shape=k)\n",
    "        \n",
    "    y = pm.Normal('y', mu=μ[z], sd=σ[z], observed=data)"
   ]
  },
  {
   "cell_type": "code",
   "execution_count": null,
   "metadata": {},
   "outputs": [],
   "source": [
    "with gmm1:\n",
    "    trace = pm.sample(n_init=10000, tune=1000, random_seed=123)"
   ]
  },
  {
   "cell_type": "code",
   "execution_count": null,
   "metadata": {},
   "outputs": [],
   "source": [
    "trace.varnames"
   ]
  },
  {
   "cell_type": "code",
   "execution_count": null,
   "metadata": {},
   "outputs": [],
   "source": [
    "pm.traceplot(trace, varnames=['p', 'μ', 'τ'])\n",
    "pass"
   ]
  },
  {
   "cell_type": "code",
   "execution_count": null,
   "metadata": {},
   "outputs": [],
   "source": [
    "with gmm1:\n",
    "    ppc = pm.sample_posterior_predictive(trace, samples=10)\n",
    "\n",
    "plt.hist(data, bins=20, normed=True, alpha=0.5)\n",
    "for i in range(10):\n",
    "    sns.distplot(ppc['y'][i], hist=False, color='grey')"
   ]
  },
  {
   "cell_type": "markdown",
   "metadata": {},
   "source": [
    "Note that the sampler is quite slow and convergence is poor. This is due to the need to sample over the discrete latent variable $z$. We can improve convergence by marginalizing out $z$."
   ]
  },
  {
   "cell_type": "markdown",
   "metadata": {},
   "source": [
    "### Marginalization\n",
    "\n",
    "$$\n",
    "f(x | p) = \\sum_{i=1}^{k} p_i N(\\mu, \\sigma)\n",
    "$$\n"
   ]
  },
  {
   "cell_type": "markdown",
   "metadata": {},
   "source": [
    "Origina model\n",
    "\n",
    "```python\n",
    "with pm.Model() as gmm1:\n",
    "    p = pm.Dirichlet('p', a=np.ones(k))\n",
    "    z = pm.Categorical('z', p=p, shape=data.shape[0])\n",
    "    μ = pm.Normal('μ', 0, 10, shape=k)\n",
    "    σ = pm.InverseGamma('τ', 1, 1, shape=k)\n",
    "        \n",
    "    y = pm.Normal('y', mu=μ[z], sd=σ[z], observed=data)\n",
    "```"
   ]
  },
  {
   "cell_type": "code",
   "execution_count": null,
   "metadata": {},
   "outputs": [],
   "source": [
    "k = 3\n",
    "\n",
    "with pm.Model() as gmm2:\n",
    "    p = pm.Dirichlet('p', a=np.ones(k))\n",
    "    μ = pm.Normal('μ', 0, 10, shape=k)\n",
    "    σ = pm.InverseGamma('τ', 1, 1, shape=k)\n",
    "        \n",
    "    y = pm.NormalMixture('y', p, mu=μ, sd=σ, observed=data)"
   ]
  },
  {
   "cell_type": "code",
   "execution_count": null,
   "metadata": {},
   "outputs": [],
   "source": [
    "with gmm2:\n",
    "    trace = pm.sample(n_init=10000, tune=1000)"
   ]
  },
  {
   "cell_type": "code",
   "execution_count": null,
   "metadata": {},
   "outputs": [],
   "source": [
    "pm.traceplot(trace, varnames=['p', 'μ', 'τ'])\n",
    "pass"
   ]
  },
  {
   "cell_type": "code",
   "execution_count": null,
   "metadata": {},
   "outputs": [],
   "source": [
    "with gmm2:\n",
    "    ppc = pm.sample_posterior_predictive(trace, samples=10)\n",
    "\n",
    "plt.hist(data, bins=20, normed=True, alpha=0.5)\n",
    "for i in range(10):\n",
    "    sns.distplot(ppc['y'][i], hist=False, color='grey')"
   ]
  },
  {
   "cell_type": "markdown",
   "metadata": {},
   "source": [
    "## Dirichlet process"
   ]
  },
  {
   "cell_type": "markdown",
   "metadata": {},
   "source": [
    "### Samples from DP"
   ]
  },
  {
   "cell_type": "code",
   "execution_count": null,
   "metadata": {},
   "outputs": [],
   "source": [
    "def sbp0(α, k, base=stats.norm(0,1)):\n",
    "    β = stats.beta.rvs(1, α, size=k)\n",
    "    w = β * np.r_[[1], (1 - β[:-1]).cumprod()]\n",
    "    x = base.rvs(size=k)\n",
    "    return w, x"
   ]
  },
  {
   "cell_type": "code",
   "execution_count": null,
   "metadata": {},
   "outputs": [],
   "source": [
    "k = 50\n",
    "\n",
    "xp = np.linspace(-3,3,100)\n",
    "np.random.seed(123)\n",
    "plt.figure(figsize=(12,3))\n",
    "for i, α in enumerate([0.1, 1,10,100]):\n",
    "    plt.subplot(1, 4, i+1)\n",
    "    w, x = sbp0(α, k)\n",
    "    plt.vlines(x, 0, w)\n",
    "    plt.plot(xp, w.max()*stats.norm(0,1).pdf(xp))\n",
    "    plt.title('α = %.1f' % α)\n",
    "plt.tight_layout()"
   ]
  },
  {
   "cell_type": "markdown",
   "metadata": {},
   "source": [
    "### DP mixture model"
   ]
  },
  {
   "cell_type": "markdown",
   "metadata": {},
   "source": [
    "#### Generative process"
   ]
  },
  {
   "cell_type": "code",
   "execution_count": null,
   "metadata": {},
   "outputs": [],
   "source": [
    "np.random.seed(123)\n",
    "α = 1\n",
    "k = 20\n",
    "\n",
    "w, x = sbp0(α, k)\n",
    "dist = stats.norm(x, 0.5)"
   ]
  },
  {
   "cell_type": "code",
   "execution_count": null,
   "metadata": {},
   "outputs": [],
   "source": [
    "xp = np.transpose([np.linspace(-3,3,100)]*k)\n",
    "plt.plot(xp[:,0], (w*dist.pdf(xp)).sum(1))\n",
    "plt.plot(xp, w*dist.pdf(xp), c='grey', ls='--')\n",
    "pass"
   ]
  },
  {
   "cell_type": "markdown",
   "metadata": {},
   "source": [
    "### Fitting to data"
   ]
  },
  {
   "cell_type": "code",
   "execution_count": null,
   "metadata": {},
   "outputs": [],
   "source": [
    "def sbp(α, k=20):\n",
    "    \"\"\"Stick breaking process geneerator.\"\"\"\n",
    "    \n",
    "    β = pm.Beta('β', 1, α, shape=k)\n",
    "    w = β * pm.math.concatenate([[1], (1 - β[:-1]).cumprod()])\n",
    "    return w"
   ]
  },
  {
   "cell_type": "code",
   "execution_count": null,
   "metadata": {},
   "outputs": [],
   "source": [
    "with pm.Model() as dpgmm:\n",
    "    α = pm.Gamma('α', 1, 1)\n",
    "    p = pm.Deterministic('p', sbp(α))\n",
    "    μ = pm.Normal('μ', \n",
    "                  np.linspace(data.min(), data.max(), k), \n",
    "                  sd=10, \n",
    "                  shape=k, \n",
    "                  transform=pm.distributions.transforms.ordered)\n",
    "    σ = pm.InverseGamma('τ', 1, 1, shape=k)\n",
    "        \n",
    "    y = pm.NormalMixture('y', p, mu=μ, sd=σ, observed=data)"
   ]
  },
  {
   "cell_type": "code",
   "execution_count": null,
   "metadata": {},
   "outputs": [],
   "source": [
    "with dpgmm:\n",
    "    trace = pm.sample(n_init=10000, tune=1000)"
   ]
  },
  {
   "cell_type": "code",
   "execution_count": null,
   "metadata": {},
   "outputs": [],
   "source": [
    "pm.traceplot(trace, varnames=['α'])\n",
    "pass"
   ]
  },
  {
   "cell_type": "markdown",
   "metadata": {},
   "source": [
    "Check that a truncation level of k=20 is sufficient."
   ]
  },
  {
   "cell_type": "code",
   "execution_count": null,
   "metadata": {
    "scrolled": false
   },
   "outputs": [],
   "source": [
    "plt.stem(trace['p'].mean(axis=0))\n",
    "plt.xticks(range(20))\n",
    "pass"
   ]
  },
  {
   "cell_type": "code",
   "execution_count": null,
   "metadata": {},
   "outputs": [],
   "source": []
  }
 ],
 "metadata": {
  "kernelspec": {
   "display_name": "Python 3",
   "language": "python",
   "name": "python3"
  },
  "language_info": {
   "codemirror_mode": {
    "name": "ipython",
    "version": 3
   },
   "file_extension": ".py",
   "mimetype": "text/x-python",
   "name": "python",
   "nbconvert_exporter": "python",
   "pygments_lexer": "ipython3",
   "version": "3.6.10"
  }
 },
 "nbformat": 4,
 "nbformat_minor": 1
}
