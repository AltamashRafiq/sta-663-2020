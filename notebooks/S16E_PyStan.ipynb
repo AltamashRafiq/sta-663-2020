{
 "cells": [
  {
   "cell_type": "code",
   "execution_count": null,
   "metadata": {},
   "outputs": [],
   "source": [
    "from __future__ import division\n",
    "import os\n",
    "import sys\n",
    "import glob\n",
    "import matplotlib.pyplot as plt\n",
    "import numpy as np\n",
    "import pandas as pd\n",
    "%matplotlib inline\n",
    "%precision 4\n",
    "plt.style.use('ggplot')"
   ]
  },
  {
   "cell_type": "code",
   "execution_count": null,
   "metadata": {},
   "outputs": [],
   "source": [
    "np.random.seed(1234)\n",
    "import pystan\n",
    "import scipy.stats as stats\n",
    "import arviz as az"
   ]
  },
  {
   "cell_type": "code",
   "execution_count": null,
   "metadata": {},
   "outputs": [],
   "source": [
    "import warnings\n",
    "warnings.simplefilter('ignore', UserWarning)"
   ]
  },
  {
   "cell_type": "markdown",
   "metadata": {},
   "source": [
    "PyStan\n",
    "====\n",
    "\n",
    "Install `PyStan`  with\n",
    "```\n",
    "pip install pystan\n",
    "```\n",
    "\n",
    "The nice thing about `PyMC` is that everything is in Python. With `PyStan`, however, you need to use a domain specific language based on C++ syntax to specify the model and the data, which is less flexible and more work. However, in exchange you get an extremely powerful HMC package (only does HMC) that can be used in R and Python.\n",
    "\n",
    "### Useful links\n",
    "\n",
    "- [Paper describing Stan](http://www.stat.columbia.edu/~gelman/research/unpublished/stan-resubmit-JSS1293.pdf)\n",
    "- [Stan Examples and Reference Manual](https://github.com/stan-dev/example-models/wiki)\n",
    "- [PyStan docs](http://pystan.readthedocs.org/en/latest/)\n",
    "- [PyStan GitHub page](https://github.com/stan-dev/pystan)"
   ]
  },
  {
   "cell_type": "code",
   "execution_count": null,
   "metadata": {},
   "outputs": [],
   "source": [
    "import warnings\n",
    "warnings.simplefilter('ignore', FutureWarning)"
   ]
  },
  {
   "cell_type": "markdown",
   "metadata": {},
   "source": [
    "### Coin toss\n",
    "\n",
    "We'll repeat the example of determining the bias of a coin from observed coin tosses. The likelihood is binomial, and  we use a beta prior."
   ]
  },
  {
   "cell_type": "code",
   "execution_count": null,
   "metadata": {},
   "outputs": [],
   "source": [
    "%%capture\n",
    "\n",
    "coin_code = \"\"\"\n",
    "data {\n",
    "    int<lower=0> n; // number of tosses\n",
    "    int<lower=0> y; // number of heads\n",
    "}\n",
    "transformed data {}\n",
    "parameters {\n",
    "    real<lower=0, upper=1> p;\n",
    "}\n",
    "transformed parameters {}\n",
    "model {\n",
    "    p ~ beta(2, 2);\n",
    "    y ~ binomial(n, p);\n",
    "}\n",
    "generated quantities {}\n",
    "\"\"\"\n",
    "\n",
    "coin_dat = {\n",
    "             'n': 100,\n",
    "             'y': 61,\n",
    "            }\n",
    "\n",
    "sm = pystan.StanModel(model_code=coin_code)"
   ]
  },
  {
   "cell_type": "code",
   "execution_count": null,
   "metadata": {},
   "outputs": [],
   "source": [
    "fit = sm.sampling(data=coin_dat, iter=1000, chains=1)"
   ]
  },
  {
   "cell_type": "markdown",
   "metadata": {},
   "source": [
    "#### Loading from a file\n",
    "\n",
    "The string in coin_code can also be in a file - say `coin_code.stan` - then we can use it like so\n",
    "\n",
    "```python\n",
    "fit = pystan.stan(file='coin_code.stan', data=coin_dat, iter=1000, chains=1)\n",
    "```"
   ]
  },
  {
   "cell_type": "code",
   "execution_count": null,
   "metadata": {},
   "outputs": [],
   "source": [
    "print(fit)"
   ]
  },
  {
   "cell_type": "code",
   "execution_count": null,
   "metadata": {},
   "outputs": [],
   "source": [
    "coin_dict = fit.extract()\n",
    "coin_dict.keys() \n",
    "# lp_ is the log posterior"
   ]
  },
  {
   "cell_type": "code",
   "execution_count": null,
   "metadata": {},
   "outputs": [],
   "source": [
    "fit.plot('p');\n",
    "plt.tight_layout()"
   ]
  },
  {
   "cell_type": "code",
   "execution_count": null,
   "metadata": {},
   "outputs": [],
   "source": [
    "az.plot_trace(fit)\n",
    "pass"
   ]
  },
  {
   "cell_type": "markdown",
   "metadata": {},
   "source": [
    "### Estimating mean and standard deviation of normal distribution\n",
    "\n",
    "$$\n",
    "X \\sim \\mathcal{N}(\\mu, \\sigma^2)\n",
    "$$"
   ]
  },
  {
   "cell_type": "code",
   "execution_count": null,
   "metadata": {},
   "outputs": [],
   "source": [
    "%%capture\n",
    "\n",
    "norm_code = \"\"\"\n",
    "data {\n",
    "    int<lower=0> n; \n",
    "    real y[n]; \n",
    "}\n",
    "transformed data {}\n",
    "parameters {\n",
    "    real<lower=0, upper=100> mu;\n",
    "    real<lower=0, upper=10> sigma;\n",
    "}\n",
    "transformed parameters {}\n",
    "model {\n",
    "    y ~ normal(mu, sigma);\n",
    "}\n",
    "generated quantities {}\n",
    "\"\"\"\n",
    "\n",
    "norm_dat = {\n",
    "             'n': 100,\n",
    "             'y': np.random.normal(10, 2, 100),\n",
    "            }\n",
    "\n",
    "sm = pystan.StanModel(model_code=norm_code)"
   ]
  },
  {
   "cell_type": "code",
   "execution_count": null,
   "metadata": {},
   "outputs": [],
   "source": [
    "fit = sm.sampling(data=norm_dat, iter=1000, chains=1)"
   ]
  },
  {
   "cell_type": "code",
   "execution_count": null,
   "metadata": {},
   "outputs": [],
   "source": [
    "fit"
   ]
  },
  {
   "cell_type": "code",
   "execution_count": null,
   "metadata": {},
   "outputs": [],
   "source": [
    "trace = fit.extract()"
   ]
  },
  {
   "cell_type": "code",
   "execution_count": null,
   "metadata": {},
   "outputs": [],
   "source": [
    "az.plot_density(trace)\n",
    "pass"
   ]
  },
  {
   "cell_type": "markdown",
   "metadata": {},
   "source": [
    "#### Optimization (finding MAP)"
   ]
  },
  {
   "cell_type": "code",
   "execution_count": null,
   "metadata": {},
   "outputs": [],
   "source": [
    "op = sm.optimizing(data=norm_dat)\n",
    "op"
   ]
  },
  {
   "cell_type": "markdown",
   "metadata": {},
   "source": [
    "#### Reusing models"
   ]
  },
  {
   "cell_type": "code",
   "execution_count": null,
   "metadata": {},
   "outputs": [],
   "source": [
    "new_dat = {\n",
    "             'n': 100,\n",
    "             'y': np.random.normal(5, 1, 100),\n",
    "            }"
   ]
  },
  {
   "cell_type": "code",
   "execution_count": null,
   "metadata": {},
   "outputs": [],
   "source": [
    "fit2 = sm.sampling(data=new_dat, chains=1)"
   ]
  },
  {
   "cell_type": "code",
   "execution_count": null,
   "metadata": {},
   "outputs": [],
   "source": [
    "fit2"
   ]
  },
  {
   "cell_type": "markdown",
   "metadata": {},
   "source": [
    "#### Saving compiled models\n",
    "\n",
    "We can also compile Stan models and save them to file, so as to reload them for later use without needing to recompile."
   ]
  },
  {
   "cell_type": "code",
   "execution_count": null,
   "metadata": {},
   "outputs": [],
   "source": [
    "def save(obj, filename):\n",
    "    \"\"\"Save compiled models for reuse.\"\"\"\n",
    "    import pickle\n",
    "    with open(filename, 'wb') as f:\n",
    "        pickle.dump(obj, f, protocol=pickle.HIGHEST_PROTOCOL)\n",
    "\n",
    "def load(filename):\n",
    "    \"\"\"Reload compiled models for reuse.\"\"\"\n",
    "    import pickle\n",
    "    return pickle.load(open(filename, 'rb'))"
   ]
  },
  {
   "cell_type": "code",
   "execution_count": null,
   "metadata": {},
   "outputs": [],
   "source": [
    "%%capture\n",
    "\n",
    "model = pystan.StanModel(model_code=norm_code)\n",
    "save(model, 'norm_model.pic')"
   ]
  },
  {
   "cell_type": "code",
   "execution_count": null,
   "metadata": {},
   "outputs": [],
   "source": [
    "new_model = load('norm_model.pic')\n",
    "fit4 = new_model.sampling(new_dat, chains=1)\n",
    "fit4"
   ]
  },
  {
   "cell_type": "markdown",
   "metadata": {},
   "source": [
    "### Estimating parameters of a linear regression model\n",
    "\n",
    "We will show how to estimate regression parameters using a simple linear model\n",
    "\n",
    "$$\n",
    "y \\sim ax + b\n",
    "$$\n",
    "\n",
    "We can restate the linear model $$y = ax + b + \\epsilon$$ as sampling from a probability distribution\n",
    "\n",
    "$$\n",
    "y \\sim \\mathcal{N}(ax + b, \\sigma^2)\n",
    "$$\n",
    "\n",
    "We will assume the following priors\n",
    "\n",
    "$$\n",
    "a \\sim \\mathcal{N}(0, 100) \\\\\n",
    "b \\sim \\mathcal{N}(0, 100) \\\\\n",
    "\\sigma \\sim \\mathcal{U}(0, 20)\n",
    "$$"
   ]
  },
  {
   "cell_type": "code",
   "execution_count": null,
   "metadata": {},
   "outputs": [],
   "source": [
    "%%capture\n",
    "\n",
    "lin_reg_code = \"\"\"\n",
    "data {\n",
    "    int<lower=0> n; \n",
    "    real x[n];\n",
    "    real y[n]; \n",
    "}\n",
    "transformed data {}\n",
    "parameters {\n",
    "    real a;\n",
    "    real b;\n",
    "    real sigma;\n",
    "}\n",
    "transformed parameters {\n",
    "    real mu[n];\n",
    "    for (i in 1:n) {\n",
    "        mu[i] <- a*x[i] + b;\n",
    "        }\n",
    "}\n",
    "model {\n",
    "    sigma ~ uniform(0, 20);\n",
    "    y ~ normal(mu, sigma);\n",
    "}\n",
    "generated quantities {}\n",
    "\"\"\"\n",
    "\n",
    "n = 11\n",
    "_a = 6\n",
    "_b = 2\n",
    "x = np.linspace(0, 1, n)\n",
    "y = _a*x + _b + np.random.randn(n)\n",
    "\n",
    "lin_reg_dat = {\n",
    "             'n': n,\n",
    "             'x': x,\n",
    "             'y': y\n",
    "            }\n",
    "\n",
    "sm = pystan.StanModel(model_code=lin_reg_code)"
   ]
  },
  {
   "cell_type": "code",
   "execution_count": null,
   "metadata": {},
   "outputs": [],
   "source": [
    "fit = sm.sampling(data=lin_reg_dat, iter=1000, chains=1)"
   ]
  },
  {
   "cell_type": "code",
   "execution_count": null,
   "metadata": {},
   "outputs": [],
   "source": [
    "az.plot_trace(fit, ['a', 'b'])\n",
    "pass"
   ]
  },
  {
   "cell_type": "markdown",
   "metadata": {},
   "source": [
    "### Simple Logistic model\n",
    "\n",
    "We have observations of height and weight and want to use a logistic model to guess the sex."
   ]
  },
  {
   "cell_type": "code",
   "execution_count": null,
   "metadata": {},
   "outputs": [],
   "source": [
    "# observed data\n",
    "df = pd.read_csv('data/HtWt.csv')\n",
    "df.head()"
   ]
  },
  {
   "cell_type": "code",
   "execution_count": null,
   "metadata": {},
   "outputs": [],
   "source": [
    "%%capture\n",
    "\n",
    "log_reg_code = \"\"\"\n",
    "data {\n",
    "    int<lower=0> n; \n",
    "    int male[n];\n",
    "    real weight[n];\n",
    "    real height[n];\n",
    "}\n",
    "transformed data {}\n",
    "parameters {\n",
    "    real a;\n",
    "    real b;\n",
    "    real c;\n",
    "}\n",
    "transformed parameters {}\n",
    "model {\n",
    "    a ~ normal(0, 10);\n",
    "    b ~ normal(0, 10);\n",
    "    c ~ normal(0, 10);\n",
    "    for(i in 1:n) {\n",
    "        male[i] ~ bernoulli(inv_logit(a*weight[i] + b*height[i] + c));\n",
    "  }\n",
    "}\n",
    "generated quantities {}\n",
    "\"\"\"\n",
    "\n",
    "log_reg_dat = {\n",
    "             'n': len(df),\n",
    "             'male': df.male,\n",
    "             'height': df.height,\n",
    "             'weight': df.weight\n",
    "            }\n",
    "\n",
    "sm = pystan.StanModel(model_code=log_reg_code)"
   ]
  },
  {
   "cell_type": "code",
   "execution_count": null,
   "metadata": {},
   "outputs": [],
   "source": [
    "fit = sm.sampling(data=log_reg_dat, iter=2000, chains=1)"
   ]
  },
  {
   "cell_type": "code",
   "execution_count": null,
   "metadata": {},
   "outputs": [],
   "source": [
    "df_trace = pd.DataFrame(fit.extract(['c', 'b', 'a']))\n",
    "pd.plotting.scatter_matrix(df_trace[:], diagonal='kde');"
   ]
  },
  {
   "cell_type": "code",
   "execution_count": null,
   "metadata": {},
   "outputs": [],
   "source": []
  }
 ],
 "metadata": {
  "kernelspec": {
   "display_name": "Python 3",
   "language": "python",
   "name": "python3"
  },
  "language_info": {
   "codemirror_mode": {
    "name": "ipython",
    "version": 3
   },
   "file_extension": ".py",
   "mimetype": "text/x-python",
   "name": "python",
   "nbconvert_exporter": "python",
   "pygments_lexer": "ipython3",
   "version": "3.6.10"
  }
 },
 "nbformat": 4,
 "nbformat_minor": 1
}
